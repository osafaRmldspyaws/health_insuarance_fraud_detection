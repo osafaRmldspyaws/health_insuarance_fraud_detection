{
 "cells": [
  {
   "cell_type": "markdown",
   "metadata": {},
   "source": [
    "# Health Insurance Fraud detection\n",
    "#### Analysed by : Osafa Karim (osafa.karim@capgemini.com)\n",
    "#### Data Scource : https://www.kaggle.com/rohitrox/healthcare-provider-fraud-detection-analysis#Test-1542969243754.csv\n"
   ]
  },
  {
   "cell_type": "code",
   "execution_count": 21,
   "metadata": {},
   "outputs": [],
   "source": [
    "# import the required libararies\n",
    "import pandas as pd\n",
    "import numpy as np\n",
    "import matplotlib.pyplot as plt\n",
    "%matplotlib inline\n",
    "import seaborn as sns\n",
    "import os\n",
    "import time\n",
    "pd.set_option('display.max_columns', 999)"
   ]
  },
  {
   "cell_type": "markdown",
   "metadata": {},
   "source": [
    "##### loading the data sets in pandas data-frame"
   ]
  },
  {
   "cell_type": "code",
   "execution_count": 2,
   "metadata": {},
   "outputs": [
    {
     "data": {
      "text/plain": [
       "['Train_Inpatientdata-1542865627584.csv',\n",
       " 'Train_Outpatientdata-1542865627584.csv',\n",
       " 'Test_Inpatientdata-1542969243754.csv',\n",
       " 'Test_Beneficiarydata-1542969243754.csv',\n",
       " 'Train-1542865627584.csv',\n",
       " 'Train_Beneficiarydata-1542865627584.csv',\n",
       " 'Test_Outpatientdata-1542969243754.csv',\n",
       " '.ipynb_checkpoints',\n",
       " '.git',\n",
       " 'Health Insurance Fraud Detection.ipynb',\n",
       " 'Test-1542969243754.csv']"
      ]
     },
     "execution_count": 2,
     "metadata": {},
     "output_type": "execute_result"
    }
   ],
   "source": [
    "os.listdir()"
   ]
  },
  {
   "cell_type": "code",
   "execution_count": 3,
   "metadata": {},
   "outputs": [
    {
     "name": "stdout",
     "output_type": "stream",
     "text": [
      "File Name :  Train_Inpatientdata-1542865627584.csv \n",
      " File size :  8572555 \n",
      " Time taken to load :  0.2895209789276123 \n",
      " Loaded successfully !\n",
      "File Name :  Train_Outpatientdata-1542865627584.csv \n",
      " File size :  77391090 \n",
      " Time taken to load :  2.1390268802642822 \n",
      " Loaded successfully !\n",
      "File Name :  Train-1542865627584.csv \n",
      " File size :  87094 \n",
      " Time taken to load :  0.01536417007446289 \n",
      " Loaded successfully !\n",
      "File Name :  Train_Beneficiarydata-1542865627584.csv \n",
      " File size :  11444821 \n",
      " Time taken to load :  0.3743917942047119 \n",
      " Loaded successfully !\n"
     ]
    }
   ],
   "source": [
    "df = {}\n",
    "for a in os.listdir():\n",
    "    if a[:5]  == 'Train':\n",
    "        star_t = time.time()\n",
    "        #df_name = 'df_'.join(a)\n",
    "        df[a[:9]] = pd.read_csv(a) \n",
    "        end_t = time.time()\n",
    "        print('File Name : ',a,\n",
    "              '\\n File size : ',os.path.getsize(a),\n",
    "              '\\n Time taken to load : ',end_t - star_t,\n",
    "              '\\n Loaded successfully !')"
   ]
  },
  {
   "cell_type": "code",
   "execution_count": 4,
   "metadata": {},
   "outputs": [
    {
     "data": {
      "text/plain": [
       "dict_keys(['Train_Inp', 'Train_Out', 'Train-154', 'Train_Ben'])"
      ]
     },
     "execution_count": 4,
     "metadata": {},
     "output_type": "execute_result"
    }
   ],
   "source": [
    "df.keys()"
   ]
  },
  {
   "cell_type": "code",
   "execution_count": 5,
   "metadata": {},
   "outputs": [
    {
     "data": {
      "text/plain": [
       "pandas.core.frame.DataFrame"
      ]
     },
     "execution_count": 5,
     "metadata": {},
     "output_type": "execute_result"
    }
   ],
   "source": [
    "type(df['Train_Inp'])"
   ]
  },
  {
   "cell_type": "code",
   "execution_count": 6,
   "metadata": {},
   "outputs": [],
   "source": [
    "df_train_inp = df['Train_Inp']"
   ]
  },
  {
   "cell_type": "code",
   "execution_count": 7,
   "metadata": {},
   "outputs": [],
   "source": [
    "df_train_out = df['Train_Out']"
   ]
  },
  {
   "cell_type": "code",
   "execution_count": 8,
   "metadata": {},
   "outputs": [],
   "source": [
    "df_train_label = df['Train-154'] "
   ]
  },
  {
   "cell_type": "code",
   "execution_count": 9,
   "metadata": {},
   "outputs": [],
   "source": [
    "df_train_ben = df['Train_Ben']"
   ]
  },
  {
   "cell_type": "markdown",
   "metadata": {},
   "source": [
    "##### Let's view the stats for the train data sets"
   ]
  },
  {
   "cell_type": "code",
   "execution_count": 10,
   "metadata": {},
   "outputs": [
    {
     "ename": "NameError",
     "evalue": "name 'df_name' is not defined",
     "output_type": "error",
     "traceback": [
      "\u001b[0;31m---------------------------------------------------------------------------\u001b[0m",
      "\u001b[0;31mNameError\u001b[0m                                 Traceback (most recent call last)",
      "\u001b[0;32m<ipython-input-10-58b3eb9ebb69>\u001b[0m in \u001b[0;36m<module>\u001b[0;34m\u001b[0m\n\u001b[1;32m      1\u001b[0m \u001b[0;31m# deleting\u001b[0m\u001b[0;34m\u001b[0m\u001b[0;34m\u001b[0m\u001b[0;34m\u001b[0m\u001b[0m\n\u001b[1;32m      2\u001b[0m \u001b[0;32mdel\u001b[0m\u001b[0;34m(\u001b[0m\u001b[0mdf\u001b[0m\u001b[0;34m)\u001b[0m\u001b[0;34m\u001b[0m\u001b[0;34m\u001b[0m\u001b[0m\n\u001b[0;32m----> 3\u001b[0;31m \u001b[0;32mdel\u001b[0m\u001b[0;34m(\u001b[0m\u001b[0mdf_name\u001b[0m\u001b[0;34m)\u001b[0m\u001b[0;34m\u001b[0m\u001b[0;34m\u001b[0m\u001b[0m\n\u001b[0m",
      "\u001b[0;31mNameError\u001b[0m: name 'df_name' is not defined"
     ]
    }
   ],
   "source": [
    "# deleting \n",
    "del(df)\n",
    "del(df_name)"
   ]
  },
  {
   "cell_type": "markdown",
   "metadata": {},
   "source": [
    "###### Visualize and describe the BENEFICIARY data"
   ]
  },
  {
   "cell_type": "code",
   "execution_count": null,
   "metadata": {},
   "outputs": [],
   "source": [
    "df_train_ben.describe()"
   ]
  },
  {
   "cell_type": "code",
   "execution_count": null,
   "metadata": {},
   "outputs": [],
   "source": [
    "df_train_ben.info()"
   ]
  },
  {
   "cell_type": "markdown",
   "metadata": {},
   "source": [
    "###### check for the nulls/missing values"
   ]
  },
  {
   "cell_type": "code",
   "execution_count": null,
   "metadata": {},
   "outputs": [],
   "source": [
    "len(df_train_ben[df_train_ben.isna().any(axis=1)])"
   ]
  },
  {
   "cell_type": "markdown",
   "metadata": {},
   "source": [
    "###### check for the columns having missing values"
   ]
  },
  {
   "cell_type": "code",
   "execution_count": null,
   "metadata": {},
   "outputs": [],
   "source": [
    "\n",
    "for a in df_train_ben.columns[df_train_ben.isna().any()].tolist():\n",
    "    print(a,' has ',df_train_ben[a].isna().sum())"
   ]
  },
  {
   "cell_type": "code",
   "execution_count": null,
   "metadata": {},
   "outputs": [],
   "source": [
    "df_train_ben.head()"
   ]
  },
  {
   "cell_type": "code",
   "execution_count": 26,
   "metadata": {},
   "outputs": [
    {
     "data": {
      "text/plain": [
       "(138556, 138556, 138556)"
      ]
     },
     "execution_count": 26,
     "metadata": {},
     "output_type": "execute_result"
    }
   ],
   "source": [
    "len(df_train_ben), len(df_train_ben['BeneID']) , len(df_train_ben['BeneID'].unique())"
   ]
  },
  {
   "cell_type": "markdown",
   "metadata": {},
   "source": [
    "###### So we have 138,556 beneficiers for analysis"
   ]
  },
  {
   "cell_type": "code",
   "execution_count": null,
   "metadata": {},
   "outputs": [],
   "source": [
    "#df_train_ben['Gender'].plot(kind='bar')"
   ]
  },
  {
   "cell_type": "code",
   "execution_count": 27,
   "metadata": {},
   "outputs": [
    {
     "data": {
      "text/plain": [
       "2    79106\n",
       "1    59450\n",
       "Name: Gender, dtype: int64"
      ]
     },
     "execution_count": 27,
     "metadata": {},
     "output_type": "execute_result"
    }
   ],
   "source": [
    "df_train_ben['Gender'].value_counts()"
   ]
  },
  {
   "cell_type": "code",
   "execution_count": 28,
   "metadata": {},
   "outputs": [
    {
     "data": {
      "image/png": "[encoded data removed]",
      "text/plain": [
       "<Figure size 432x288 with 1 Axes>"
      ]
     },
     "metadata": {
      "needs_background": "light"
     },
     "output_type": "display_data"
    }
   ],
   "source": [
    "plt.figure(figsize=(6,4))\n",
    "ax = sns.countplot(x='Gender', data=df_train_ben)\n",
    "plt.title(' Comparison of claims by Gender')\n",
    "for p in ax.patches:\n",
    "    ax.annotate(str(p.get_height()), (p.get_x() * 1.005, p.get_height() * 1.005))"
   ]
  },
  {
   "cell_type": "code",
   "execution_count": 29,
   "metadata": {},
   "outputs": [
    {
     "data": {
      "text/plain": [
       "array([1, 2, 3, 5])"
      ]
     },
     "execution_count": 29,
     "metadata": {},
     "output_type": "execute_result"
    }
   ],
   "source": [
    "df_train_ben['Race'].unique()"
   ]
  },
  {
   "cell_type": "code",
   "execution_count": 30,
   "metadata": {},
   "outputs": [
    {
     "data": {
      "text/plain": [
       "1    117057\n",
       "2     13538\n",
       "3      5059\n",
       "5      2902\n",
       "Name: Race, dtype: int64"
      ]
     },
     "execution_count": 30,
     "metadata": {},
     "output_type": "execute_result"
    }
   ],
   "source": [
    "df_train_ben['Race'].value_counts()"
   ]
  },
  {
   "cell_type": "code",
   "execution_count": 31,
   "metadata": {},
   "outputs": [
    {
     "data": {
      "image/png": "[encoded data removed]",
      "text/plain": [
       "<Figure size 1152x432 with 1 Axes>"
      ]
     },
     "metadata": {
      "needs_background": "light"
     },
     "output_type": "display_data"
    }
   ],
   "source": [
    "plt.figure(figsize=(16,6))\n",
    "ax = sns.countplot(x = \"Race\", data=df_train_ben)\n",
    "plt.title('Comparison of claims by Race')\n",
    "for p in ax.patches:\n",
    "    ax.annotate(str(p.get_height()), (p.get_x() * 1.005, p.get_height() * 1.005))\n",
    "plt.grid(True)\n"
   ]
  },
  {
   "cell_type": "code",
   "execution_count": 32,
   "metadata": {},
   "outputs": [],
   "source": [
    "df = df_train_ben[['Race','Gender']].groupby(['Race','Gender']).count()"
   ]
  },
  {
   "cell_type": "code",
   "execution_count": 33,
   "metadata": {},
   "outputs": [
    {
     "data": {
      "image/png": "[encoded data removed]",
      "text/plain": [
       "<Figure size 1152x432 with 1 Axes>"
      ]
     },
     "metadata": {
      "needs_background": "light"
     },
     "output_type": "display_data"
    }
   ],
   "source": [
    "ax = pd.crosstab(df_train_ben['Race'],df_train_ben['Gender']).plot(kind = 'bar',figsize=(16,6))\n",
    "plt.grid(True)\n",
    "plt.title(\" Comparison of Gender by Race\",fontsize = 20)\n",
    "for p in ax.patches:\n",
    "    ax.annotate(str(p.get_height()), (p.get_x() * 1.005, p.get_height() * 1.005))"
   ]
  },
  {
   "cell_type": "markdown",
   "metadata": {},
   "source": [
    "###### Visualize and describe the IN-Patient data"
   ]
  },
  {
   "cell_type": "code",
   "execution_count": 34,
   "metadata": {},
   "outputs": [
    {
     "data": {
      "text/html": [
       "<div>\n",
       "<style scoped>\n",
       "    .dataframe tbody tr th:only-of-type {\n",
       "        vertical-align: middle;\n",
       "    }\n",
       "\n",
       "    .dataframe tbody tr th {\n",
       "        vertical-align: top;\n",
       "    }\n",
       "\n",
       "    .dataframe thead th {\n",
       "        text-align: right;\n",
       "    }\n",
       "</style>\n",
       "<table border=\"1\" class=\"dataframe\">\n",
       "  <thead>\n",
       "    <tr style=\"text-align: right;\">\n",
       "      <th></th>\n",
       "      <th>InscClaimAmtReimbursed</th>\n",
       "      <th>DeductibleAmtPaid</th>\n",
       "      <th>ClmProcedureCode_1</th>\n",
       "      <th>ClmProcedureCode_2</th>\n",
       "      <th>ClmProcedureCode_3</th>\n",
       "      <th>ClmProcedureCode_4</th>\n",
       "      <th>ClmProcedureCode_5</th>\n",
       "      <th>ClmProcedureCode_6</th>\n",
       "    </tr>\n",
       "  </thead>\n",
       "  <tbody>\n",
       "    <tr>\n",
       "      <th>count</th>\n",
       "      <td>40474.000000</td>\n",
       "      <td>39575.0</td>\n",
       "      <td>23148.000000</td>\n",
       "      <td>5454.000000</td>\n",
       "      <td>965.000000</td>\n",
       "      <td>116.000000</td>\n",
       "      <td>9.000000</td>\n",
       "      <td>0.0</td>\n",
       "    </tr>\n",
       "    <tr>\n",
       "      <th>mean</th>\n",
       "      <td>10087.884074</td>\n",
       "      <td>1068.0</td>\n",
       "      <td>5894.611759</td>\n",
       "      <td>4103.738174</td>\n",
       "      <td>4226.355440</td>\n",
       "      <td>4070.172414</td>\n",
       "      <td>5269.444444</td>\n",
       "      <td>NaN</td>\n",
       "    </tr>\n",
       "    <tr>\n",
       "      <th>std</th>\n",
       "      <td>10303.099402</td>\n",
       "      <td>0.0</td>\n",
       "      <td>3049.304400</td>\n",
       "      <td>2028.182156</td>\n",
       "      <td>2282.761581</td>\n",
       "      <td>1994.409802</td>\n",
       "      <td>2780.071632</td>\n",
       "      <td>NaN</td>\n",
       "    </tr>\n",
       "    <tr>\n",
       "      <th>min</th>\n",
       "      <td>0.000000</td>\n",
       "      <td>1068.0</td>\n",
       "      <td>11.000000</td>\n",
       "      <td>42.000000</td>\n",
       "      <td>42.000000</td>\n",
       "      <td>42.000000</td>\n",
       "      <td>2724.000000</td>\n",
       "      <td>NaN</td>\n",
       "    </tr>\n",
       "    <tr>\n",
       "      <th>25%</th>\n",
       "      <td>4000.000000</td>\n",
       "      <td>1068.0</td>\n",
       "      <td>3848.000000</td>\n",
       "      <td>2724.000000</td>\n",
       "      <td>2724.000000</td>\n",
       "      <td>2758.750000</td>\n",
       "      <td>4139.000000</td>\n",
       "      <td>NaN</td>\n",
       "    </tr>\n",
       "    <tr>\n",
       "      <th>50%</th>\n",
       "      <td>7000.000000</td>\n",
       "      <td>1068.0</td>\n",
       "      <td>5369.000000</td>\n",
       "      <td>4019.000000</td>\n",
       "      <td>4019.000000</td>\n",
       "      <td>4019.000000</td>\n",
       "      <td>4139.000000</td>\n",
       "      <td>NaN</td>\n",
       "    </tr>\n",
       "    <tr>\n",
       "      <th>75%</th>\n",
       "      <td>12000.000000</td>\n",
       "      <td>1068.0</td>\n",
       "      <td>8666.250000</td>\n",
       "      <td>4439.000000</td>\n",
       "      <td>5185.000000</td>\n",
       "      <td>4439.000000</td>\n",
       "      <td>5185.000000</td>\n",
       "      <td>NaN</td>\n",
       "    </tr>\n",
       "    <tr>\n",
       "      <th>max</th>\n",
       "      <td>125000.000000</td>\n",
       "      <td>1068.0</td>\n",
       "      <td>9999.000000</td>\n",
       "      <td>9999.000000</td>\n",
       "      <td>9999.000000</td>\n",
       "      <td>9986.000000</td>\n",
       "      <td>9982.000000</td>\n",
       "      <td>NaN</td>\n",
       "    </tr>\n",
       "  </tbody>\n",
       "</table>\n",
       "</div>"
      ],
      "text/plain": [
       "       InscClaimAmtReimbursed  DeductibleAmtPaid  ClmProcedureCode_1  \\\n",
       "count            40474.000000            39575.0        23148.000000   \n",
       "mean             10087.884074             1068.0         5894.611759   \n",
       "std              10303.099402                0.0         3049.304400   \n",
       "min                  0.000000             1068.0           11.000000   \n",
       "25%               4000.000000             1068.0         3848.000000   \n",
       "50%               7000.000000             1068.0         5369.000000   \n",
       "75%              12000.000000             1068.0         8666.250000   \n",
       "max             125000.000000             1068.0         9999.000000   \n",
       "\n",
       "       ClmProcedureCode_2  ClmProcedureCode_3  ClmProcedureCode_4  \\\n",
       "count         5454.000000          965.000000          116.000000   \n",
       "mean          4103.738174         4226.355440         4070.172414   \n",
       "std           2028.182156         2282.761581         1994.409802   \n",
       "min             42.000000           42.000000           42.000000   \n",
       "25%           2724.000000         2724.000000         2758.750000   \n",
       "50%           4019.000000         4019.000000         4019.000000   \n",
       "75%           4439.000000         5185.000000         4439.000000   \n",
       "max           9999.000000         9999.000000         9986.000000   \n",
       "\n",
       "       ClmProcedureCode_5  ClmProcedureCode_6  \n",
       "count            9.000000                 0.0  \n",
       "mean          5269.444444                 NaN  \n",
       "std           2780.071632                 NaN  \n",
       "min           2724.000000                 NaN  \n",
       "25%           4139.000000                 NaN  \n",
       "50%           4139.000000                 NaN  \n",
       "75%           5185.000000                 NaN  \n",
       "max           9982.000000                 NaN  "
      ]
     },
     "execution_count": 34,
     "metadata": {},
     "output_type": "execute_result"
    }
   ],
   "source": [
    "df_train_inp.describe()"
   ]
  },
  {
   "cell_type": "code",
   "execution_count": 35,
   "metadata": {},
   "outputs": [
    {
     "name": "stdout",
     "output_type": "stream",
     "text": [
      "<class 'pandas.core.frame.DataFrame'>\n",
      "RangeIndex: 40474 entries, 0 to 40473\n",
      "Data columns (total 30 columns):\n",
      "BeneID                    40474 non-null object\n",
      "ClaimID                   40474 non-null object\n",
      "ClaimStartDt              40474 non-null object\n",
      "ClaimEndDt                40474 non-null object\n",
      "Provider                  40474 non-null object\n",
      "InscClaimAmtReimbursed    40474 non-null int64\n",
      "AttendingPhysician        40362 non-null object\n",
      "OperatingPhysician        23830 non-null object\n",
      "OtherPhysician            4690 non-null object\n",
      "AdmissionDt               40474 non-null object\n",
      "ClmAdmitDiagnosisCode     40474 non-null object\n",
      "DeductibleAmtPaid         39575 non-null float64\n",
      "DischargeDt               40474 non-null object\n",
      "DiagnosisGroupCode        40474 non-null object\n",
      "ClmDiagnosisCode_1        40474 non-null object\n",
      "ClmDiagnosisCode_2        40248 non-null object\n",
      "ClmDiagnosisCode_3        39798 non-null object\n",
      "ClmDiagnosisCode_4        38940 non-null object\n",
      "ClmDiagnosisCode_5        37580 non-null object\n",
      "ClmDiagnosisCode_6        35636 non-null object\n",
      "ClmDiagnosisCode_7        33216 non-null object\n",
      "ClmDiagnosisCode_8        30532 non-null object\n",
      "ClmDiagnosisCode_9        26977 non-null object\n",
      "ClmDiagnosisCode_10       3927 non-null object\n",
      "ClmProcedureCode_1        23148 non-null float64\n",
      "ClmProcedureCode_2        5454 non-null float64\n",
      "ClmProcedureCode_3        965 non-null float64\n",
      "ClmProcedureCode_4        116 non-null float64\n",
      "ClmProcedureCode_5        9 non-null float64\n",
      "ClmProcedureCode_6        0 non-null float64\n",
      "dtypes: float64(7), int64(1), object(22)\n",
      "memory usage: 9.3+ MB\n"
     ]
    }
   ],
   "source": [
    "df_train_inp.info()"
   ]
  },
  {
   "cell_type": "code",
   "execution_count": 36,
   "metadata": {},
   "outputs": [],
   "source": [
    "in_missing_df = {}\n",
    "for a in df_train_inp.columns[df_train_inp.isna().any()].tolist():\n",
    "    #print(a,' has ',df_train_inp[a].isna().sum())\n",
    "    in_missing_df[a] = df_train_inp[a].isna().sum()\n",
    "    \n",
    "in_missing_df = pd.DataFrame.from_dict(in_missing_df, orient = 'index', columns=['Count of missing values'])"
   ]
  },
  {
   "cell_type": "code",
   "execution_count": 37,
   "metadata": {},
   "outputs": [
    {
     "data": {
      "text/html": [
       "<div>\n",
       "<style scoped>\n",
       "    .dataframe tbody tr th:only-of-type {\n",
       "        vertical-align: middle;\n",
       "    }\n",
       "\n",
       "    .dataframe tbody tr th {\n",
       "        vertical-align: top;\n",
       "    }\n",
       "\n",
       "    .dataframe thead th {\n",
       "        text-align: right;\n",
       "    }\n",
       "</style>\n",
       "<table border=\"1\" class=\"dataframe\">\n",
       "  <thead>\n",
       "    <tr style=\"text-align: right;\">\n",
       "      <th></th>\n",
       "      <th>Count of missing values</th>\n",
       "    </tr>\n",
       "  </thead>\n",
       "  <tbody>\n",
       "    <tr>\n",
       "      <th>AttendingPhysician</th>\n",
       "      <td>112</td>\n",
       "    </tr>\n",
       "    <tr>\n",
       "      <th>OperatingPhysician</th>\n",
       "      <td>16644</td>\n",
       "    </tr>\n",
       "    <tr>\n",
       "      <th>OtherPhysician</th>\n",
       "      <td>35784</td>\n",
       "    </tr>\n",
       "    <tr>\n",
       "      <th>DeductibleAmtPaid</th>\n",
       "      <td>899</td>\n",
       "    </tr>\n",
       "    <tr>\n",
       "      <th>ClmDiagnosisCode_2</th>\n",
       "      <td>226</td>\n",
       "    </tr>\n",
       "    <tr>\n",
       "      <th>ClmDiagnosisCode_3</th>\n",
       "      <td>676</td>\n",
       "    </tr>\n",
       "    <tr>\n",
       "      <th>ClmDiagnosisCode_4</th>\n",
       "      <td>1534</td>\n",
       "    </tr>\n",
       "    <tr>\n",
       "      <th>ClmDiagnosisCode_5</th>\n",
       "      <td>2894</td>\n",
       "    </tr>\n",
       "    <tr>\n",
       "      <th>ClmDiagnosisCode_6</th>\n",
       "      <td>4838</td>\n",
       "    </tr>\n",
       "    <tr>\n",
       "      <th>ClmDiagnosisCode_7</th>\n",
       "      <td>7258</td>\n",
       "    </tr>\n",
       "    <tr>\n",
       "      <th>ClmDiagnosisCode_8</th>\n",
       "      <td>9942</td>\n",
       "    </tr>\n",
       "    <tr>\n",
       "      <th>ClmDiagnosisCode_9</th>\n",
       "      <td>13497</td>\n",
       "    </tr>\n",
       "    <tr>\n",
       "      <th>ClmDiagnosisCode_10</th>\n",
       "      <td>36547</td>\n",
       "    </tr>\n",
       "    <tr>\n",
       "      <th>ClmProcedureCode_1</th>\n",
       "      <td>17326</td>\n",
       "    </tr>\n",
       "    <tr>\n",
       "      <th>ClmProcedureCode_2</th>\n",
       "      <td>35020</td>\n",
       "    </tr>\n",
       "    <tr>\n",
       "      <th>ClmProcedureCode_3</th>\n",
       "      <td>39509</td>\n",
       "    </tr>\n",
       "    <tr>\n",
       "      <th>ClmProcedureCode_4</th>\n",
       "      <td>40358</td>\n",
       "    </tr>\n",
       "    <tr>\n",
       "      <th>ClmProcedureCode_5</th>\n",
       "      <td>40465</td>\n",
       "    </tr>\n",
       "    <tr>\n",
       "      <th>ClmProcedureCode_6</th>\n",
       "      <td>40474</td>\n",
       "    </tr>\n",
       "  </tbody>\n",
       "</table>\n",
       "</div>"
      ],
      "text/plain": [
       "                     Count of missing values\n",
       "AttendingPhysician                       112\n",
       "OperatingPhysician                     16644\n",
       "OtherPhysician                         35784\n",
       "DeductibleAmtPaid                        899\n",
       "ClmDiagnosisCode_2                       226\n",
       "ClmDiagnosisCode_3                       676\n",
       "ClmDiagnosisCode_4                      1534\n",
       "ClmDiagnosisCode_5                      2894\n",
       "ClmDiagnosisCode_6                      4838\n",
       "ClmDiagnosisCode_7                      7258\n",
       "ClmDiagnosisCode_8                      9942\n",
       "ClmDiagnosisCode_9                     13497\n",
       "ClmDiagnosisCode_10                    36547\n",
       "ClmProcedureCode_1                     17326\n",
       "ClmProcedureCode_2                     35020\n",
       "ClmProcedureCode_3                     39509\n",
       "ClmProcedureCode_4                     40358\n",
       "ClmProcedureCode_5                     40465\n",
       "ClmProcedureCode_6                     40474"
      ]
     },
     "execution_count": 37,
     "metadata": {},
     "output_type": "execute_result"
    }
   ],
   "source": [
    "in_missing_df"
   ]
  },
  {
   "cell_type": "markdown",
   "metadata": {},
   "source": [
    "##### So from the above analysis it is imperative that we have to impute the data/fill in the missing values so that the information is not missed , analyses is not skewd and is statistically valid."
   ]
  },
  {
   "cell_type": "code",
   "execution_count": 38,
   "metadata": {},
   "outputs": [
    {
     "data": {
      "text/html": [
       "<div>\n",
       "<style scoped>\n",
       "    .dataframe tbody tr th:only-of-type {\n",
       "        vertical-align: middle;\n",
       "    }\n",
       "\n",
       "    .dataframe tbody tr th {\n",
       "        vertical-align: top;\n",
       "    }\n",
       "\n",
       "    .dataframe thead th {\n",
       "        text-align: right;\n",
       "    }\n",
       "</style>\n",
       "<table border=\"1\" class=\"dataframe\">\n",
       "  <thead>\n",
       "    <tr style=\"text-align: right;\">\n",
       "      <th></th>\n",
       "      <th>BeneID</th>\n",
       "      <th>ClaimID</th>\n",
       "      <th>ClaimStartDt</th>\n",
       "      <th>ClaimEndDt</th>\n",
       "      <th>Provider</th>\n",
       "      <th>InscClaimAmtReimbursed</th>\n",
       "      <th>AttendingPhysician</th>\n",
       "      <th>OperatingPhysician</th>\n",
       "      <th>OtherPhysician</th>\n",
       "      <th>AdmissionDt</th>\n",
       "      <th>ClmAdmitDiagnosisCode</th>\n",
       "      <th>DeductibleAmtPaid</th>\n",
       "      <th>DischargeDt</th>\n",
       "      <th>DiagnosisGroupCode</th>\n",
       "      <th>ClmDiagnosisCode_1</th>\n",
       "      <th>ClmDiagnosisCode_2</th>\n",
       "      <th>ClmDiagnosisCode_3</th>\n",
       "      <th>ClmDiagnosisCode_4</th>\n",
       "      <th>ClmDiagnosisCode_5</th>\n",
       "      <th>ClmDiagnosisCode_6</th>\n",
       "      <th>ClmDiagnosisCode_7</th>\n",
       "      <th>ClmDiagnosisCode_8</th>\n",
       "      <th>ClmDiagnosisCode_9</th>\n",
       "      <th>ClmDiagnosisCode_10</th>\n",
       "      <th>ClmProcedureCode_1</th>\n",
       "      <th>ClmProcedureCode_2</th>\n",
       "      <th>ClmProcedureCode_3</th>\n",
       "      <th>ClmProcedureCode_4</th>\n",
       "      <th>ClmProcedureCode_5</th>\n",
       "      <th>ClmProcedureCode_6</th>\n",
       "    </tr>\n",
       "  </thead>\n",
       "  <tbody>\n",
       "    <tr>\n",
       "      <th>0</th>\n",
       "      <td>BENE11001</td>\n",
       "      <td>CLM46614</td>\n",
       "      <td>2009-04-12</td>\n",
       "      <td>2009-04-18</td>\n",
       "      <td>PRV55912</td>\n",
       "      <td>26000</td>\n",
       "      <td>PHY390922</td>\n",
       "      <td>NaN</td>\n",
       "      <td>NaN</td>\n",
       "      <td>2009-04-12</td>\n",
       "      <td>7866</td>\n",
       "      <td>1068.0</td>\n",
       "      <td>2009-04-18</td>\n",
       "      <td>201</td>\n",
       "      <td>1970</td>\n",
       "      <td>4019</td>\n",
       "      <td>5853</td>\n",
       "      <td>7843</td>\n",
       "      <td>2768</td>\n",
       "      <td>71590</td>\n",
       "      <td>2724</td>\n",
       "      <td>19889</td>\n",
       "      <td>5849</td>\n",
       "      <td>NaN</td>\n",
       "      <td>NaN</td>\n",
       "      <td>NaN</td>\n",
       "      <td>NaN</td>\n",
       "      <td>NaN</td>\n",
       "      <td>NaN</td>\n",
       "      <td>NaN</td>\n",
       "    </tr>\n",
       "    <tr>\n",
       "      <th>1</th>\n",
       "      <td>BENE11001</td>\n",
       "      <td>CLM66048</td>\n",
       "      <td>2009-08-31</td>\n",
       "      <td>2009-09-02</td>\n",
       "      <td>PRV55907</td>\n",
       "      <td>5000</td>\n",
       "      <td>PHY318495</td>\n",
       "      <td>PHY318495</td>\n",
       "      <td>NaN</td>\n",
       "      <td>2009-08-31</td>\n",
       "      <td>6186</td>\n",
       "      <td>1068.0</td>\n",
       "      <td>2009-09-02</td>\n",
       "      <td>750</td>\n",
       "      <td>6186</td>\n",
       "      <td>2948</td>\n",
       "      <td>56400</td>\n",
       "      <td>NaN</td>\n",
       "      <td>NaN</td>\n",
       "      <td>NaN</td>\n",
       "      <td>NaN</td>\n",
       "      <td>NaN</td>\n",
       "      <td>NaN</td>\n",
       "      <td>NaN</td>\n",
       "      <td>7092.0</td>\n",
       "      <td>NaN</td>\n",
       "      <td>NaN</td>\n",
       "      <td>NaN</td>\n",
       "      <td>NaN</td>\n",
       "      <td>NaN</td>\n",
       "    </tr>\n",
       "    <tr>\n",
       "      <th>2</th>\n",
       "      <td>BENE11001</td>\n",
       "      <td>CLM68358</td>\n",
       "      <td>2009-09-17</td>\n",
       "      <td>2009-09-20</td>\n",
       "      <td>PRV56046</td>\n",
       "      <td>5000</td>\n",
       "      <td>PHY372395</td>\n",
       "      <td>NaN</td>\n",
       "      <td>PHY324689</td>\n",
       "      <td>2009-09-17</td>\n",
       "      <td>29590</td>\n",
       "      <td>1068.0</td>\n",
       "      <td>2009-09-20</td>\n",
       "      <td>883</td>\n",
       "      <td>29623</td>\n",
       "      <td>30390</td>\n",
       "      <td>71690</td>\n",
       "      <td>34590</td>\n",
       "      <td>V1581</td>\n",
       "      <td>32723</td>\n",
       "      <td>NaN</td>\n",
       "      <td>NaN</td>\n",
       "      <td>NaN</td>\n",
       "      <td>NaN</td>\n",
       "      <td>NaN</td>\n",
       "      <td>NaN</td>\n",
       "      <td>NaN</td>\n",
       "      <td>NaN</td>\n",
       "      <td>NaN</td>\n",
       "      <td>NaN</td>\n",
       "    </tr>\n",
       "    <tr>\n",
       "      <th>3</th>\n",
       "      <td>BENE11011</td>\n",
       "      <td>CLM38412</td>\n",
       "      <td>2009-02-14</td>\n",
       "      <td>2009-02-22</td>\n",
       "      <td>PRV52405</td>\n",
       "      <td>5000</td>\n",
       "      <td>PHY369659</td>\n",
       "      <td>PHY392961</td>\n",
       "      <td>PHY349768</td>\n",
       "      <td>2009-02-14</td>\n",
       "      <td>431</td>\n",
       "      <td>1068.0</td>\n",
       "      <td>2009-02-22</td>\n",
       "      <td>067</td>\n",
       "      <td>43491</td>\n",
       "      <td>2762</td>\n",
       "      <td>7843</td>\n",
       "      <td>32723</td>\n",
       "      <td>V1041</td>\n",
       "      <td>4254</td>\n",
       "      <td>25062</td>\n",
       "      <td>40390</td>\n",
       "      <td>4019</td>\n",
       "      <td>NaN</td>\n",
       "      <td>331.0</td>\n",
       "      <td>NaN</td>\n",
       "      <td>NaN</td>\n",
       "      <td>NaN</td>\n",
       "      <td>NaN</td>\n",
       "      <td>NaN</td>\n",
       "    </tr>\n",
       "    <tr>\n",
       "      <th>4</th>\n",
       "      <td>BENE11014</td>\n",
       "      <td>CLM63689</td>\n",
       "      <td>2009-08-13</td>\n",
       "      <td>2009-08-30</td>\n",
       "      <td>PRV56614</td>\n",
       "      <td>10000</td>\n",
       "      <td>PHY379376</td>\n",
       "      <td>PHY398258</td>\n",
       "      <td>NaN</td>\n",
       "      <td>2009-08-13</td>\n",
       "      <td>78321</td>\n",
       "      <td>1068.0</td>\n",
       "      <td>2009-08-30</td>\n",
       "      <td>975</td>\n",
       "      <td>042</td>\n",
       "      <td>3051</td>\n",
       "      <td>34400</td>\n",
       "      <td>5856</td>\n",
       "      <td>42732</td>\n",
       "      <td>486</td>\n",
       "      <td>5119</td>\n",
       "      <td>29620</td>\n",
       "      <td>20300</td>\n",
       "      <td>NaN</td>\n",
       "      <td>3893.0</td>\n",
       "      <td>NaN</td>\n",
       "      <td>NaN</td>\n",
       "      <td>NaN</td>\n",
       "      <td>NaN</td>\n",
       "      <td>NaN</td>\n",
       "    </tr>\n",
       "  </tbody>\n",
       "</table>\n",
       "</div>"
      ],
      "text/plain": [
       "      BeneID   ClaimID ClaimStartDt  ClaimEndDt  Provider  \\\n",
       "0  BENE11001  CLM46614   2009-04-12  2009-04-18  PRV55912   \n",
       "1  BENE11001  CLM66048   2009-08-31  2009-09-02  PRV55907   \n",
       "2  BENE11001  CLM68358   2009-09-17  2009-09-20  PRV56046   \n",
       "3  BENE11011  CLM38412   2009-02-14  2009-02-22  PRV52405   \n",
       "4  BENE11014  CLM63689   2009-08-13  2009-08-30  PRV56614   \n",
       "\n",
       "   InscClaimAmtReimbursed AttendingPhysician OperatingPhysician  \\\n",
       "0                   26000          PHY390922                NaN   \n",
       "1                    5000          PHY318495          PHY318495   \n",
       "2                    5000          PHY372395                NaN   \n",
       "3                    5000          PHY369659          PHY392961   \n",
       "4                   10000          PHY379376          PHY398258   \n",
       "\n",
       "  OtherPhysician AdmissionDt ClmAdmitDiagnosisCode  DeductibleAmtPaid  \\\n",
       "0            NaN  2009-04-12                  7866             1068.0   \n",
       "1            NaN  2009-08-31                  6186             1068.0   \n",
       "2      PHY324689  2009-09-17                 29590             1068.0   \n",
       "3      PHY349768  2009-02-14                   431             1068.0   \n",
       "4            NaN  2009-08-13                 78321             1068.0   \n",
       "\n",
       "  DischargeDt DiagnosisGroupCode ClmDiagnosisCode_1 ClmDiagnosisCode_2  \\\n",
       "0  2009-04-18                201               1970               4019   \n",
       "1  2009-09-02                750               6186               2948   \n",
       "2  2009-09-20                883              29623              30390   \n",
       "3  2009-02-22                067              43491               2762   \n",
       "4  2009-08-30                975                042               3051   \n",
       "\n",
       "  ClmDiagnosisCode_3 ClmDiagnosisCode_4 ClmDiagnosisCode_5 ClmDiagnosisCode_6  \\\n",
       "0               5853               7843               2768              71590   \n",
       "1              56400                NaN                NaN                NaN   \n",
       "2              71690              34590              V1581              32723   \n",
       "3               7843              32723              V1041               4254   \n",
       "4              34400               5856              42732                486   \n",
       "\n",
       "  ClmDiagnosisCode_7 ClmDiagnosisCode_8 ClmDiagnosisCode_9  \\\n",
       "0               2724              19889               5849   \n",
       "1                NaN                NaN                NaN   \n",
       "2                NaN                NaN                NaN   \n",
       "3              25062              40390               4019   \n",
       "4               5119              29620              20300   \n",
       "\n",
       "  ClmDiagnosisCode_10  ClmProcedureCode_1  ClmProcedureCode_2  \\\n",
       "0                 NaN                 NaN                 NaN   \n",
       "1                 NaN              7092.0                 NaN   \n",
       "2                 NaN                 NaN                 NaN   \n",
       "3                 NaN               331.0                 NaN   \n",
       "4                 NaN              3893.0                 NaN   \n",
       "\n",
       "   ClmProcedureCode_3  ClmProcedureCode_4  ClmProcedureCode_5  \\\n",
       "0                 NaN                 NaN                 NaN   \n",
       "1                 NaN                 NaN                 NaN   \n",
       "2                 NaN                 NaN                 NaN   \n",
       "3                 NaN                 NaN                 NaN   \n",
       "4                 NaN                 NaN                 NaN   \n",
       "\n",
       "   ClmProcedureCode_6  \n",
       "0                 NaN  \n",
       "1                 NaN  \n",
       "2                 NaN  \n",
       "3                 NaN  \n",
       "4                 NaN  "
      ]
     },
     "execution_count": 38,
     "metadata": {},
     "output_type": "execute_result"
    }
   ],
   "source": [
    "df_train_inp.head()"
   ]
  },
  {
   "cell_type": "code",
   "execution_count": 39,
   "metadata": {},
   "outputs": [
    {
     "data": {
      "text/plain": [
       "31289"
      ]
     },
     "execution_count": 39,
     "metadata": {},
     "output_type": "execute_result"
    }
   ],
   "source": [
    "len(df_train_inp['BeneID'].unique())"
   ]
  },
  {
   "cell_type": "code",
   "execution_count": 40,
   "metadata": {},
   "outputs": [],
   "source": [
    "# let's see how many of the benficiaries have multiple claims\n",
    "df_bene_id = df_train_inp['BeneID'].value_counts()"
   ]
  },
  {
   "cell_type": "code",
   "execution_count": 41,
   "metadata": {},
   "outputs": [
    {
     "data": {
      "text/plain": [
       "<matplotlib.axes._subplots.AxesSubplot at 0x1a25062d30>"
      ]
     },
     "execution_count": 41,
     "metadata": {},
     "output_type": "execute_result"
    },
    {
     "data": {
      "image/png": "[encoded data removed]",
      "text/plain": [
       "<Figure size 432x288 with 1 Axes>"
      ]
     },
     "metadata": {
      "needs_background": "light"
     },
     "output_type": "display_data"
    }
   ],
   "source": [
    "df_bene_id.hist()"
   ]
  },
  {
   "cell_type": "code",
   "execution_count": 42,
   "metadata": {},
   "outputs": [
    {
     "data": {
      "image/png": "[encoded data removed]",
      "text/plain": [
       "<Figure size 1152x432 with 1 Axes>"
      ]
     },
     "metadata": {
      "needs_background": "light"
     },
     "output_type": "display_data"
    }
   ],
   "source": [
    "# Let's visualize InscClaimAmtReimbursed\n",
    "plt.figure(figsize=(16,6))\n",
    "sns.kdeplot(df_train_inp['InscClaimAmtReimbursed'], shade=True, color = 'g')\n",
    "plt.grid(True)"
   ]
  },
  {
   "cell_type": "code",
   "execution_count": 43,
   "metadata": {},
   "outputs": [
    {
     "data": {
      "image/png": "[encoded data removed]",
      "text/plain": [
       "<Figure size 1152x504 with 1 Axes>"
      ]
     },
     "metadata": {
      "needs_background": "light"
     },
     "output_type": "display_data"
    }
   ],
   "source": [
    "plt.figure(figsize=(16,7))\n",
    "ax = df_train_inp['InscClaimAmtReimbursed'].hist(bins=50)\n",
    "for p in ax.patches:\n",
    "    ax.annotate(str(p.get_height()), (p.get_x() * 1.005, p.get_height() * 1.005))"
   ]
  },
  {
   "cell_type": "code",
   "execution_count": 44,
   "metadata": {},
   "outputs": [
    {
     "data": {
      "text/plain": [
       "2092"
      ]
     },
     "execution_count": 44,
     "metadata": {},
     "output_type": "execute_result"
    }
   ],
   "source": [
    "# Provider\n",
    "len(df_train_inp['Provider'].unique())"
   ]
  },
  {
   "cell_type": "code",
   "execution_count": 47,
   "metadata": {},
   "outputs": [],
   "source": [
    "df_provider_50 = pd.DataFrame(df_train_inp['Provider'].value_counts().head(50))"
   ]
  },
  {
   "cell_type": "code",
   "execution_count": 48,
   "metadata": {},
   "outputs": [
    {
     "data": {
      "text/html": [
       "<div>\n",
       "<style scoped>\n",
       "    .dataframe tbody tr th:only-of-type {\n",
       "        vertical-align: middle;\n",
       "    }\n",
       "\n",
       "    .dataframe tbody tr th {\n",
       "        vertical-align: top;\n",
       "    }\n",
       "\n",
       "    .dataframe thead th {\n",
       "        text-align: right;\n",
       "    }\n",
       "</style>\n",
       "<table border=\"1\" class=\"dataframe\">\n",
       "  <thead>\n",
       "    <tr style=\"text-align: right;\">\n",
       "      <th></th>\n",
       "      <th>PRV52019</th>\n",
       "      <th>PRV55462</th>\n",
       "      <th>PRV54367</th>\n",
       "      <th>PRV53706</th>\n",
       "      <th>PRV55209</th>\n",
       "      <th>PRV56560</th>\n",
       "      <th>PRV54742</th>\n",
       "      <th>PRV55230</th>\n",
       "      <th>PRV52340</th>\n",
       "      <th>PRV51501</th>\n",
       "      <th>PRV56416</th>\n",
       "      <th>PRV52135</th>\n",
       "      <th>PRV54955</th>\n",
       "      <th>PRV51244</th>\n",
       "      <th>PRV51560</th>\n",
       "      <th>PRV54765</th>\n",
       "      <th>PRV53808</th>\n",
       "      <th>PRV51940</th>\n",
       "      <th>PRV57191</th>\n",
       "      <th>PRV52021</th>\n",
       "      <th>PRV52846</th>\n",
       "      <th>PRV52821</th>\n",
       "      <th>PRV55194</th>\n",
       "      <th>PRV52903</th>\n",
       "      <th>PRV52120</th>\n",
       "      <th>PRV52100</th>\n",
       "      <th>PRV51390</th>\n",
       "      <th>PRV52123</th>\n",
       "      <th>PRV51146</th>\n",
       "      <th>PRV51145</th>\n",
       "      <th>PRV51471</th>\n",
       "      <th>PRV53712</th>\n",
       "      <th>PRV55019</th>\n",
       "      <th>PRV54986</th>\n",
       "      <th>PRV51614</th>\n",
       "      <th>PRV52574</th>\n",
       "      <th>PRV53692</th>\n",
       "      <th>PRV52642</th>\n",
       "      <th>PRV55215</th>\n",
       "      <th>PRV51948</th>\n",
       "      <th>PRV54894</th>\n",
       "      <th>PRV52178</th>\n",
       "      <th>PRV53769</th>\n",
       "      <th>PRV54936</th>\n",
       "      <th>PRV53401</th>\n",
       "      <th>PRV55435</th>\n",
       "      <th>PRV55849</th>\n",
       "      <th>PRV51578</th>\n",
       "      <th>PRV56647</th>\n",
       "      <th>PRV52985</th>\n",
       "    </tr>\n",
       "  </thead>\n",
       "  <tbody>\n",
       "    <tr>\n",
       "      <th>Provider</th>\n",
       "      <td>516</td>\n",
       "      <td>386</td>\n",
       "      <td>322</td>\n",
       "      <td>282</td>\n",
       "      <td>275</td>\n",
       "      <td>248</td>\n",
       "      <td>231</td>\n",
       "      <td>225</td>\n",
       "      <td>224</td>\n",
       "      <td>223</td>\n",
       "      <td>214</td>\n",
       "      <td>210</td>\n",
       "      <td>205</td>\n",
       "      <td>200</td>\n",
       "      <td>200</td>\n",
       "      <td>196</td>\n",
       "      <td>195</td>\n",
       "      <td>193</td>\n",
       "      <td>185</td>\n",
       "      <td>181</td>\n",
       "      <td>175</td>\n",
       "      <td>173</td>\n",
       "      <td>169</td>\n",
       "      <td>167</td>\n",
       "      <td>165</td>\n",
       "      <td>164</td>\n",
       "      <td>164</td>\n",
       "      <td>162</td>\n",
       "      <td>162</td>\n",
       "      <td>161</td>\n",
       "      <td>161</td>\n",
       "      <td>161</td>\n",
       "      <td>158</td>\n",
       "      <td>153</td>\n",
       "      <td>148</td>\n",
       "      <td>146</td>\n",
       "      <td>146</td>\n",
       "      <td>146</td>\n",
       "      <td>143</td>\n",
       "      <td>143</td>\n",
       "      <td>138</td>\n",
       "      <td>133</td>\n",
       "      <td>132</td>\n",
       "      <td>131</td>\n",
       "      <td>130</td>\n",
       "      <td>128</td>\n",
       "      <td>128</td>\n",
       "      <td>122</td>\n",
       "      <td>121</td>\n",
       "      <td>121</td>\n",
       "    </tr>\n",
       "  </tbody>\n",
       "</table>\n",
       "</div>"
      ],
      "text/plain": [
       "          PRV52019  PRV55462  PRV54367  PRV53706  PRV55209  PRV56560  \\\n",
       "Provider       516       386       322       282       275       248   \n",
       "\n",
       "          PRV54742  PRV55230  PRV52340  PRV51501  PRV56416  PRV52135  \\\n",
       "Provider       231       225       224       223       214       210   \n",
       "\n",
       "          PRV54955  PRV51244  PRV51560  PRV54765  PRV53808  PRV51940  \\\n",
       "Provider       205       200       200       196       195       193   \n",
       "\n",
       "          PRV57191  PRV52021  PRV52846  PRV52821  PRV55194  PRV52903  \\\n",
       "Provider       185       181       175       173       169       167   \n",
       "\n",
       "          PRV52120  PRV52100  PRV51390  PRV52123  PRV51146  PRV51145  \\\n",
       "Provider       165       164       164       162       162       161   \n",
       "\n",
       "          PRV51471  PRV53712  PRV55019  PRV54986  PRV51614  PRV52574  \\\n",
       "Provider       161       161       158       153       148       146   \n",
       "\n",
       "          PRV53692  PRV52642  PRV55215  PRV51948  PRV54894  PRV52178  \\\n",
       "Provider       146       146       143       143       138       133   \n",
       "\n",
       "          PRV53769  PRV54936  PRV53401  PRV55435  PRV55849  PRV51578  \\\n",
       "Provider       132       131       130       128       128       122   \n",
       "\n",
       "          PRV56647  PRV52985  \n",
       "Provider       121       121  "
      ]
     },
     "execution_count": 48,
     "metadata": {},
     "output_type": "execute_result"
    }
   ],
   "source": [
    "df_provider_50.T"
   ]
  },
  {
   "cell_type": "code",
   "execution_count": 49,
   "metadata": {},
   "outputs": [
    {
     "data": {
      "text/plain": [
       "Text(0.5, 0, 'Insurance Providers ')"
      ]
     },
     "execution_count": 49,
     "metadata": {},
     "output_type": "execute_result"
    },
    {
     "data": {
      "image/png": "[encoded data removed]",
      "text/plain": [
       "<Figure size 1296x720 with 1 Axes>"
      ]
     },
     "metadata": {
      "needs_background": "light"
     },
     "output_type": "display_data"
    }
   ],
   "source": [
    "# let's plot top 50 providers\n",
    "df_provider = (df_train_inp['Provider'].value_counts().head(50))\n",
    "ax = df_provider.T.plot(kind='bar', figsize = (18, 10) , grid = True ,colormap='bwr')\n",
    "for p in ax.patches:\n",
    "    ax.annotate(str(p.get_height()), (p.get_x() * 1.005, p.get_height() * 1.005))\n",
    "plt.title(\" Comparison of the top 50 Providers in terms of the market-share by count\",fontsize=20 )\n",
    "plt.ylabel(' Count of claims', fontsize = 15)\n",
    "plt.xlabel('Insurance Providers ', fontsize = 15)"
   ]
  },
  {
   "cell_type": "code",
   "execution_count": 50,
   "metadata": {},
   "outputs": [
    {
     "data": {
      "text/plain": [
       "11605"
      ]
     },
     "execution_count": 50,
     "metadata": {},
     "output_type": "execute_result"
    }
   ],
   "source": [
    "# AttendingPhysician\n",
    "len(df_train_inp['AttendingPhysician'].unique())"
   ]
  },
  {
   "cell_type": "code",
   "execution_count": 51,
   "metadata": {},
   "outputs": [],
   "source": [
    "df_attending_physician = df_train_inp['AttendingPhysician'].value_counts().head(50)"
   ]
  },
  {
   "cell_type": "code",
   "execution_count": 52,
   "metadata": {},
   "outputs": [
    {
     "data": {
      "text/plain": [
       "Text(0.5, 0, 'Physician ')"
      ]
     },
     "execution_count": 52,
     "metadata": {},
     "output_type": "execute_result"
    },
    {
     "data": {
      "image/png": "[encoded data removed]",
      "text/plain": [
       "<Figure size 1152x576 with 1 Axes>"
      ]
     },
     "metadata": {
      "needs_background": "light"
     },
     "output_type": "display_data"
    }
   ],
   "source": [
    "ax = df_attending_physician.T.plot(kind = 'bar' , figsize=(16,8))\n",
    "for p in ax.patches:\n",
    "    ax.annotate(str(p.get_height()), (p.get_x() * 1.005, p.get_height() * 1.005))\n",
    "plt.title(\" Comparison of the top 50 Attending Physician \",fontsize=20 )\n",
    "plt.ylabel(' Count of claims attended to ', fontsize = 15)\n",
    "plt.xlabel('Physician ', fontsize = 15)"
   ]
  },
  {
   "cell_type": "markdown",
   "metadata": {},
   "source": [
    "###### Visualize and describe the Out-Patient data"
   ]
  },
  {
   "cell_type": "code",
   "execution_count": 53,
   "metadata": {},
   "outputs": [
    {
     "data": {
      "text/plain": [
       "(517737, 27)"
      ]
     },
     "execution_count": 53,
     "metadata": {},
     "output_type": "execute_result"
    }
   ],
   "source": [
    "df_train_out.shape"
   ]
  },
  {
   "cell_type": "code",
   "execution_count": 54,
   "metadata": {},
   "outputs": [
    {
     "data": {
      "text/html": [
       "<div>\n",
       "<style scoped>\n",
       "    .dataframe tbody tr th:only-of-type {\n",
       "        vertical-align: middle;\n",
       "    }\n",
       "\n",
       "    .dataframe tbody tr th {\n",
       "        vertical-align: top;\n",
       "    }\n",
       "\n",
       "    .dataframe thead th {\n",
       "        text-align: right;\n",
       "    }\n",
       "</style>\n",
       "<table border=\"1\" class=\"dataframe\">\n",
       "  <thead>\n",
       "    <tr style=\"text-align: right;\">\n",
       "      <th></th>\n",
       "      <th>BeneID</th>\n",
       "      <th>ClaimID</th>\n",
       "      <th>ClaimStartDt</th>\n",
       "      <th>ClaimEndDt</th>\n",
       "      <th>Provider</th>\n",
       "      <th>InscClaimAmtReimbursed</th>\n",
       "      <th>AttendingPhysician</th>\n",
       "      <th>OperatingPhysician</th>\n",
       "      <th>OtherPhysician</th>\n",
       "      <th>ClmDiagnosisCode_1</th>\n",
       "      <th>ClmDiagnosisCode_2</th>\n",
       "      <th>ClmDiagnosisCode_3</th>\n",
       "      <th>ClmDiagnosisCode_4</th>\n",
       "      <th>ClmDiagnosisCode_5</th>\n",
       "      <th>ClmDiagnosisCode_6</th>\n",
       "      <th>ClmDiagnosisCode_7</th>\n",
       "      <th>ClmDiagnosisCode_8</th>\n",
       "      <th>ClmDiagnosisCode_9</th>\n",
       "      <th>ClmDiagnosisCode_10</th>\n",
       "      <th>ClmProcedureCode_1</th>\n",
       "      <th>ClmProcedureCode_2</th>\n",
       "      <th>ClmProcedureCode_3</th>\n",
       "      <th>ClmProcedureCode_4</th>\n",
       "      <th>ClmProcedureCode_5</th>\n",
       "      <th>ClmProcedureCode_6</th>\n",
       "      <th>DeductibleAmtPaid</th>\n",
       "      <th>ClmAdmitDiagnosisCode</th>\n",
       "    </tr>\n",
       "  </thead>\n",
       "  <tbody>\n",
       "    <tr>\n",
       "      <th>0</th>\n",
       "      <td>BENE11002</td>\n",
       "      <td>CLM624349</td>\n",
       "      <td>2009-10-11</td>\n",
       "      <td>2009-10-11</td>\n",
       "      <td>PRV56011</td>\n",
       "      <td>30</td>\n",
       "      <td>PHY326117</td>\n",
       "      <td>NaN</td>\n",
       "      <td>NaN</td>\n",
       "      <td>78943</td>\n",
       "      <td>V5866</td>\n",
       "      <td>V1272</td>\n",
       "      <td>NaN</td>\n",
       "      <td>NaN</td>\n",
       "      <td>NaN</td>\n",
       "      <td>NaN</td>\n",
       "      <td>NaN</td>\n",
       "      <td>NaN</td>\n",
       "      <td>NaN</td>\n",
       "      <td>NaN</td>\n",
       "      <td>NaN</td>\n",
       "      <td>NaN</td>\n",
       "      <td>NaN</td>\n",
       "      <td>NaN</td>\n",
       "      <td>NaN</td>\n",
       "      <td>0</td>\n",
       "      <td>56409</td>\n",
       "    </tr>\n",
       "    <tr>\n",
       "      <th>1</th>\n",
       "      <td>BENE11003</td>\n",
       "      <td>CLM189947</td>\n",
       "      <td>2009-02-12</td>\n",
       "      <td>2009-02-12</td>\n",
       "      <td>PRV57610</td>\n",
       "      <td>80</td>\n",
       "      <td>PHY362868</td>\n",
       "      <td>NaN</td>\n",
       "      <td>NaN</td>\n",
       "      <td>6115</td>\n",
       "      <td>NaN</td>\n",
       "      <td>NaN</td>\n",
       "      <td>NaN</td>\n",
       "      <td>NaN</td>\n",
       "      <td>NaN</td>\n",
       "      <td>NaN</td>\n",
       "      <td>NaN</td>\n",
       "      <td>NaN</td>\n",
       "      <td>NaN</td>\n",
       "      <td>NaN</td>\n",
       "      <td>NaN</td>\n",
       "      <td>NaN</td>\n",
       "      <td>NaN</td>\n",
       "      <td>NaN</td>\n",
       "      <td>NaN</td>\n",
       "      <td>0</td>\n",
       "      <td>79380</td>\n",
       "    </tr>\n",
       "    <tr>\n",
       "      <th>2</th>\n",
       "      <td>BENE11003</td>\n",
       "      <td>CLM438021</td>\n",
       "      <td>2009-06-27</td>\n",
       "      <td>2009-06-27</td>\n",
       "      <td>PRV57595</td>\n",
       "      <td>10</td>\n",
       "      <td>PHY328821</td>\n",
       "      <td>NaN</td>\n",
       "      <td>NaN</td>\n",
       "      <td>2723</td>\n",
       "      <td>NaN</td>\n",
       "      <td>NaN</td>\n",
       "      <td>NaN</td>\n",
       "      <td>NaN</td>\n",
       "      <td>NaN</td>\n",
       "      <td>NaN</td>\n",
       "      <td>NaN</td>\n",
       "      <td>NaN</td>\n",
       "      <td>NaN</td>\n",
       "      <td>NaN</td>\n",
       "      <td>NaN</td>\n",
       "      <td>NaN</td>\n",
       "      <td>NaN</td>\n",
       "      <td>NaN</td>\n",
       "      <td>NaN</td>\n",
       "      <td>0</td>\n",
       "      <td>NaN</td>\n",
       "    </tr>\n",
       "    <tr>\n",
       "      <th>3</th>\n",
       "      <td>BENE11004</td>\n",
       "      <td>CLM121801</td>\n",
       "      <td>2009-01-06</td>\n",
       "      <td>2009-01-06</td>\n",
       "      <td>PRV56011</td>\n",
       "      <td>40</td>\n",
       "      <td>PHY334319</td>\n",
       "      <td>NaN</td>\n",
       "      <td>NaN</td>\n",
       "      <td>71988</td>\n",
       "      <td>NaN</td>\n",
       "      <td>NaN</td>\n",
       "      <td>NaN</td>\n",
       "      <td>NaN</td>\n",
       "      <td>NaN</td>\n",
       "      <td>NaN</td>\n",
       "      <td>NaN</td>\n",
       "      <td>NaN</td>\n",
       "      <td>NaN</td>\n",
       "      <td>NaN</td>\n",
       "      <td>NaN</td>\n",
       "      <td>NaN</td>\n",
       "      <td>NaN</td>\n",
       "      <td>NaN</td>\n",
       "      <td>NaN</td>\n",
       "      <td>0</td>\n",
       "      <td>NaN</td>\n",
       "    </tr>\n",
       "    <tr>\n",
       "      <th>4</th>\n",
       "      <td>BENE11004</td>\n",
       "      <td>CLM150998</td>\n",
       "      <td>2009-01-22</td>\n",
       "      <td>2009-01-22</td>\n",
       "      <td>PRV56011</td>\n",
       "      <td>200</td>\n",
       "      <td>PHY403831</td>\n",
       "      <td>NaN</td>\n",
       "      <td>NaN</td>\n",
       "      <td>82382</td>\n",
       "      <td>30000</td>\n",
       "      <td>72887</td>\n",
       "      <td>4280</td>\n",
       "      <td>7197</td>\n",
       "      <td>V4577</td>\n",
       "      <td>NaN</td>\n",
       "      <td>NaN</td>\n",
       "      <td>NaN</td>\n",
       "      <td>NaN</td>\n",
       "      <td>NaN</td>\n",
       "      <td>NaN</td>\n",
       "      <td>NaN</td>\n",
       "      <td>NaN</td>\n",
       "      <td>NaN</td>\n",
       "      <td>NaN</td>\n",
       "      <td>0</td>\n",
       "      <td>71947</td>\n",
       "    </tr>\n",
       "  </tbody>\n",
       "</table>\n",
       "</div>"
      ],
      "text/plain": [
       "      BeneID    ClaimID ClaimStartDt  ClaimEndDt  Provider  \\\n",
       "0  BENE11002  CLM624349   2009-10-11  2009-10-11  PRV56011   \n",
       "1  BENE11003  CLM189947   2009-02-12  2009-02-12  PRV57610   \n",
       "2  BENE11003  CLM438021   2009-06-27  2009-06-27  PRV57595   \n",
       "3  BENE11004  CLM121801   2009-01-06  2009-01-06  PRV56011   \n",
       "4  BENE11004  CLM150998   2009-01-22  2009-01-22  PRV56011   \n",
       "\n",
       "   InscClaimAmtReimbursed AttendingPhysician OperatingPhysician  \\\n",
       "0                      30          PHY326117                NaN   \n",
       "1                      80          PHY362868                NaN   \n",
       "2                      10          PHY328821                NaN   \n",
       "3                      40          PHY334319                NaN   \n",
       "4                     200          PHY403831                NaN   \n",
       "\n",
       "  OtherPhysician ClmDiagnosisCode_1 ClmDiagnosisCode_2 ClmDiagnosisCode_3  \\\n",
       "0            NaN              78943              V5866              V1272   \n",
       "1            NaN               6115                NaN                NaN   \n",
       "2            NaN               2723                NaN                NaN   \n",
       "3            NaN              71988                NaN                NaN   \n",
       "4            NaN              82382              30000              72887   \n",
       "\n",
       "  ClmDiagnosisCode_4 ClmDiagnosisCode_5 ClmDiagnosisCode_6 ClmDiagnosisCode_7  \\\n",
       "0                NaN                NaN                NaN                NaN   \n",
       "1                NaN                NaN                NaN                NaN   \n",
       "2                NaN                NaN                NaN                NaN   \n",
       "3                NaN                NaN                NaN                NaN   \n",
       "4               4280               7197              V4577                NaN   \n",
       "\n",
       "  ClmDiagnosisCode_8 ClmDiagnosisCode_9 ClmDiagnosisCode_10  \\\n",
       "0                NaN                NaN                 NaN   \n",
       "1                NaN                NaN                 NaN   \n",
       "2                NaN                NaN                 NaN   \n",
       "3                NaN                NaN                 NaN   \n",
       "4                NaN                NaN                 NaN   \n",
       "\n",
       "   ClmProcedureCode_1  ClmProcedureCode_2  ClmProcedureCode_3  \\\n",
       "0                 NaN                 NaN                 NaN   \n",
       "1                 NaN                 NaN                 NaN   \n",
       "2                 NaN                 NaN                 NaN   \n",
       "3                 NaN                 NaN                 NaN   \n",
       "4                 NaN                 NaN                 NaN   \n",
       "\n",
       "   ClmProcedureCode_4  ClmProcedureCode_5  ClmProcedureCode_6  \\\n",
       "0                 NaN                 NaN                 NaN   \n",
       "1                 NaN                 NaN                 NaN   \n",
       "2                 NaN                 NaN                 NaN   \n",
       "3                 NaN                 NaN                 NaN   \n",
       "4                 NaN                 NaN                 NaN   \n",
       "\n",
       "   DeductibleAmtPaid ClmAdmitDiagnosisCode  \n",
       "0                  0                 56409  \n",
       "1                  0                 79380  \n",
       "2                  0                   NaN  \n",
       "3                  0                   NaN  \n",
       "4                  0                 71947  "
      ]
     },
     "execution_count": 54,
     "metadata": {},
     "output_type": "execute_result"
    }
   ],
   "source": [
    "df_train_out.head()"
   ]
  },
  {
   "cell_type": "code",
   "execution_count": 55,
   "metadata": {},
   "outputs": [
    {
     "name": "stdout",
     "output_type": "stream",
     "text": [
      "<class 'pandas.core.frame.DataFrame'>\n",
      "RangeIndex: 517737 entries, 0 to 517736\n",
      "Data columns (total 27 columns):\n",
      "BeneID                    517737 non-null object\n",
      "ClaimID                   517737 non-null object\n",
      "ClaimStartDt              517737 non-null object\n",
      "ClaimEndDt                517737 non-null object\n",
      "Provider                  517737 non-null object\n",
      "InscClaimAmtReimbursed    517737 non-null int64\n",
      "AttendingPhysician        516341 non-null object\n",
      "OperatingPhysician        90617 non-null object\n",
      "OtherPhysician            195046 non-null object\n",
      "ClmDiagnosisCode_1        507284 non-null object\n",
      "ClmDiagnosisCode_2        322357 non-null object\n",
      "ClmDiagnosisCode_3        203257 non-null object\n",
      "ClmDiagnosisCode_4        125596 non-null object\n",
      "ClmDiagnosisCode_5        74344 non-null object\n",
      "ClmDiagnosisCode_6        48756 non-null object\n",
      "ClmDiagnosisCode_7        32961 non-null object\n",
      "ClmDiagnosisCode_8        22912 non-null object\n",
      "ClmDiagnosisCode_9        14838 non-null object\n",
      "ClmDiagnosisCode_10       1083 non-null object\n",
      "ClmProcedureCode_1        162 non-null float64\n",
      "ClmProcedureCode_2        36 non-null float64\n",
      "ClmProcedureCode_3        4 non-null float64\n",
      "ClmProcedureCode_4        2 non-null float64\n",
      "ClmProcedureCode_5        0 non-null float64\n",
      "ClmProcedureCode_6        0 non-null float64\n",
      "DeductibleAmtPaid         517737 non-null int64\n",
      "ClmAdmitDiagnosisCode     105425 non-null object\n",
      "dtypes: float64(6), int64(2), object(19)\n",
      "memory usage: 106.7+ MB\n"
     ]
    }
   ],
   "source": [
    "df_train_out.info()"
   ]
  },
  {
   "cell_type": "code",
   "execution_count": 56,
   "metadata": {},
   "outputs": [],
   "source": [
    "# check for the features of the in-patient and not in out-patient dataset\n",
    "miss_col_out = []\n",
    "for a in df_train_inp.columns.tolist():\n",
    "    if a not in df_train_out.columns.tolist():\n",
    "        miss_col_out.append(a)"
   ]
  },
  {
   "cell_type": "code",
   "execution_count": 57,
   "metadata": {},
   "outputs": [],
   "source": [
    "# check for the features of the out-patient and not in in-patient dataset\n",
    "miss_col_in = []\n",
    "for a in df_train_out.columns.tolist():\n",
    "    if a not in df_train_inp.columns.tolist():\n",
    "        miss_col_in.append(a)"
   ]
  },
  {
   "cell_type": "code",
   "execution_count": 58,
   "metadata": {},
   "outputs": [
    {
     "data": {
      "text/plain": [
       "(['AdmissionDt', 'DischargeDt', 'DiagnosisGroupCode'], [])"
      ]
     },
     "execution_count": 58,
     "metadata": {},
     "output_type": "execute_result"
    }
   ],
   "source": [
    "miss_col_out , miss_col_in"
   ]
  },
  {
   "cell_type": "markdown",
   "metadata": {},
   "source": [
    "##### *** Important : So what we see here , is that the in-patient and out-patient data-sets have overlapping features. Hence we can merge (union) the 2 datasets and add some features from the beneficiary datasets."
   ]
  },
  {
   "cell_type": "code",
   "execution_count": 11,
   "metadata": {},
   "outputs": [
    {
     "name": "stderr",
     "output_type": "stream",
     "text": [
      "/anaconda3/lib/python3.6/site-packages/ipykernel_launcher.py:1: FutureWarning: Sorting because non-concatenation axis is not aligned. A future version\n",
      "of pandas will change to not sort by default.\n",
      "\n",
      "To accept the future behavior, pass 'sort=False'.\n",
      "\n",
      "To retain the current behavior and silence the warning, pass 'sort=True'.\n",
      "\n",
      "  \"\"\"Entry point for launching an IPython kernel.\n"
     ]
    }
   ],
   "source": [
    "df_new = pd.concat([df_train_inp, df_train_out], ignore_index=True)"
   ]
  },
  {
   "cell_type": "code",
   "execution_count": 12,
   "metadata": {},
   "outputs": [
    {
     "data": {
      "text/plain": [
       "(558211, 30)"
      ]
     },
     "execution_count": 12,
     "metadata": {},
     "output_type": "execute_result"
    }
   ],
   "source": [
    "df_new.shape"
   ]
  },
  {
   "cell_type": "markdown",
   "metadata": {},
   "source": [
    "##### Check for the common features between in-out-patient and the benficiary dataset"
   ]
  },
  {
   "cell_type": "code",
   "execution_count": 14,
   "metadata": {},
   "outputs": [],
   "source": [
    "# features present in the in-out and absent in the ben\n",
    "ftr_present_inout_miss_ben = []\n",
    "for a in df_new.columns.tolist():\n",
    "    if a in df_train_ben.columns.tolist():\n",
    "        ftr_present_inout_miss_ben.append(a)"
   ]
  },
  {
   "cell_type": "code",
   "execution_count": 15,
   "metadata": {},
   "outputs": [],
   "source": [
    "# features present in the beneficiary but absent in the in-out-patient\n",
    "ftr_present_ben_miss_inout = []\n",
    "for a in df_train_ben.columns.tolist():\n",
    "    if a in df_new.columns.tolist():\n",
    "        ftr_present_ben_miss_inout.append(a)"
   ]
  },
  {
   "cell_type": "markdown",
   "metadata": {},
   "source": [
    "##### Merge all separate datasets to form one consolidated feature set which can be used in the predictive model."
   ]
  },
  {
   "cell_type": "code",
   "execution_count": 16,
   "metadata": {},
   "outputs": [],
   "source": [
    "train = pd.merge(df_new, df_train_ben)"
   ]
  },
  {
   "cell_type": "code",
   "execution_count": 18,
   "metadata": {},
   "outputs": [
    {
     "data": {
      "text/plain": [
       "((558211, 30), (40474, 30), (517737, 27), (5410, 2))"
      ]
     },
     "execution_count": 18,
     "metadata": {},
     "output_type": "execute_result"
    }
   ],
   "source": [
    "df_new.shape, df_train_inp.shape, df_train_out.shape, df_train_label.shape"
   ]
  },
  {
   "cell_type": "code",
   "execution_count": 22,
   "metadata": {},
   "outputs": [
    {
     "data": {
      "text/html": [
       "<div>\n",
       "<style scoped>\n",
       "    .dataframe tbody tr th:only-of-type {\n",
       "        vertical-align: middle;\n",
       "    }\n",
       "\n",
       "    .dataframe tbody tr th {\n",
       "        vertical-align: top;\n",
       "    }\n",
       "\n",
       "    .dataframe thead th {\n",
       "        text-align: right;\n",
       "    }\n",
       "</style>\n",
       "<table border=\"1\" class=\"dataframe\">\n",
       "  <thead>\n",
       "    <tr style=\"text-align: right;\">\n",
       "      <th></th>\n",
       "      <th>AdmissionDt</th>\n",
       "      <th>AttendingPhysician</th>\n",
       "      <th>BeneID</th>\n",
       "      <th>ClaimEndDt</th>\n",
       "      <th>ClaimID</th>\n",
       "      <th>ClaimStartDt</th>\n",
       "      <th>ClmAdmitDiagnosisCode</th>\n",
       "      <th>ClmDiagnosisCode_1</th>\n",
       "      <th>ClmDiagnosisCode_10</th>\n",
       "      <th>ClmDiagnosisCode_2</th>\n",
       "      <th>ClmDiagnosisCode_3</th>\n",
       "      <th>ClmDiagnosisCode_4</th>\n",
       "      <th>ClmDiagnosisCode_5</th>\n",
       "      <th>ClmDiagnosisCode_6</th>\n",
       "      <th>ClmDiagnosisCode_7</th>\n",
       "      <th>ClmDiagnosisCode_8</th>\n",
       "      <th>ClmDiagnosisCode_9</th>\n",
       "      <th>ClmProcedureCode_1</th>\n",
       "      <th>ClmProcedureCode_2</th>\n",
       "      <th>ClmProcedureCode_3</th>\n",
       "      <th>ClmProcedureCode_4</th>\n",
       "      <th>ClmProcedureCode_5</th>\n",
       "      <th>ClmProcedureCode_6</th>\n",
       "      <th>DeductibleAmtPaid</th>\n",
       "      <th>DiagnosisGroupCode</th>\n",
       "      <th>DischargeDt</th>\n",
       "      <th>InscClaimAmtReimbursed</th>\n",
       "      <th>OperatingPhysician</th>\n",
       "      <th>OtherPhysician</th>\n",
       "      <th>Provider</th>\n",
       "      <th>DOB</th>\n",
       "      <th>DOD</th>\n",
       "      <th>Gender</th>\n",
       "      <th>Race</th>\n",
       "      <th>RenalDiseaseIndicator</th>\n",
       "      <th>State</th>\n",
       "      <th>County</th>\n",
       "      <th>NoOfMonths_PartACov</th>\n",
       "      <th>NoOfMonths_PartBCov</th>\n",
       "      <th>ChronicCond_Alzheimer</th>\n",
       "      <th>ChronicCond_Heartfailure</th>\n",
       "      <th>ChronicCond_KidneyDisease</th>\n",
       "      <th>ChronicCond_Cancer</th>\n",
       "      <th>ChronicCond_ObstrPulmonary</th>\n",
       "      <th>ChronicCond_Depression</th>\n",
       "      <th>ChronicCond_Diabetes</th>\n",
       "      <th>ChronicCond_IschemicHeart</th>\n",
       "      <th>ChronicCond_Osteoporasis</th>\n",
       "      <th>ChronicCond_rheumatoidarthritis</th>\n",
       "      <th>ChronicCond_stroke</th>\n",
       "      <th>IPAnnualReimbursementAmt</th>\n",
       "      <th>IPAnnualDeductibleAmt</th>\n",
       "      <th>OPAnnualReimbursementAmt</th>\n",
       "      <th>OPAnnualDeductibleAmt</th>\n",
       "    </tr>\n",
       "  </thead>\n",
       "  <tbody>\n",
       "    <tr>\n",
       "      <th>0</th>\n",
       "      <td>2009-04-12</td>\n",
       "      <td>PHY390922</td>\n",
       "      <td>BENE11001</td>\n",
       "      <td>2009-04-18</td>\n",
       "      <td>CLM46614</td>\n",
       "      <td>2009-04-12</td>\n",
       "      <td>7866</td>\n",
       "      <td>1970</td>\n",
       "      <td>NaN</td>\n",
       "      <td>4019</td>\n",
       "      <td>5853</td>\n",
       "      <td>7843</td>\n",
       "      <td>2768</td>\n",
       "      <td>71590</td>\n",
       "      <td>2724</td>\n",
       "      <td>19889</td>\n",
       "      <td>5849</td>\n",
       "      <td>NaN</td>\n",
       "      <td>NaN</td>\n",
       "      <td>NaN</td>\n",
       "      <td>NaN</td>\n",
       "      <td>NaN</td>\n",
       "      <td>NaN</td>\n",
       "      <td>1068.0</td>\n",
       "      <td>201</td>\n",
       "      <td>2009-04-18</td>\n",
       "      <td>26000</td>\n",
       "      <td>NaN</td>\n",
       "      <td>NaN</td>\n",
       "      <td>PRV55912</td>\n",
       "      <td>1943-01-01</td>\n",
       "      <td>NaN</td>\n",
       "      <td>1</td>\n",
       "      <td>1</td>\n",
       "      <td>0</td>\n",
       "      <td>39</td>\n",
       "      <td>230</td>\n",
       "      <td>12</td>\n",
       "      <td>12</td>\n",
       "      <td>1</td>\n",
       "      <td>2</td>\n",
       "      <td>1</td>\n",
       "      <td>2</td>\n",
       "      <td>2</td>\n",
       "      <td>1</td>\n",
       "      <td>1</td>\n",
       "      <td>1</td>\n",
       "      <td>2</td>\n",
       "      <td>1</td>\n",
       "      <td>1</td>\n",
       "      <td>36000</td>\n",
       "      <td>3204</td>\n",
       "      <td>60</td>\n",
       "      <td>70</td>\n",
       "    </tr>\n",
       "    <tr>\n",
       "      <th>1</th>\n",
       "      <td>2009-08-31</td>\n",
       "      <td>PHY318495</td>\n",
       "      <td>BENE11001</td>\n",
       "      <td>2009-09-02</td>\n",
       "      <td>CLM66048</td>\n",
       "      <td>2009-08-31</td>\n",
       "      <td>6186</td>\n",
       "      <td>6186</td>\n",
       "      <td>NaN</td>\n",
       "      <td>2948</td>\n",
       "      <td>56400</td>\n",
       "      <td>NaN</td>\n",
       "      <td>NaN</td>\n",
       "      <td>NaN</td>\n",
       "      <td>NaN</td>\n",
       "      <td>NaN</td>\n",
       "      <td>NaN</td>\n",
       "      <td>7092.0</td>\n",
       "      <td>NaN</td>\n",
       "      <td>NaN</td>\n",
       "      <td>NaN</td>\n",
       "      <td>NaN</td>\n",
       "      <td>NaN</td>\n",
       "      <td>1068.0</td>\n",
       "      <td>750</td>\n",
       "      <td>2009-09-02</td>\n",
       "      <td>5000</td>\n",
       "      <td>PHY318495</td>\n",
       "      <td>NaN</td>\n",
       "      <td>PRV55907</td>\n",
       "      <td>1943-01-01</td>\n",
       "      <td>NaN</td>\n",
       "      <td>1</td>\n",
       "      <td>1</td>\n",
       "      <td>0</td>\n",
       "      <td>39</td>\n",
       "      <td>230</td>\n",
       "      <td>12</td>\n",
       "      <td>12</td>\n",
       "      <td>1</td>\n",
       "      <td>2</td>\n",
       "      <td>1</td>\n",
       "      <td>2</td>\n",
       "      <td>2</td>\n",
       "      <td>1</td>\n",
       "      <td>1</td>\n",
       "      <td>1</td>\n",
       "      <td>2</td>\n",
       "      <td>1</td>\n",
       "      <td>1</td>\n",
       "      <td>36000</td>\n",
       "      <td>3204</td>\n",
       "      <td>60</td>\n",
       "      <td>70</td>\n",
       "    </tr>\n",
       "    <tr>\n",
       "      <th>2</th>\n",
       "      <td>2009-09-17</td>\n",
       "      <td>PHY372395</td>\n",
       "      <td>BENE11001</td>\n",
       "      <td>2009-09-20</td>\n",
       "      <td>CLM68358</td>\n",
       "      <td>2009-09-17</td>\n",
       "      <td>29590</td>\n",
       "      <td>29623</td>\n",
       "      <td>NaN</td>\n",
       "      <td>30390</td>\n",
       "      <td>71690</td>\n",
       "      <td>34590</td>\n",
       "      <td>V1581</td>\n",
       "      <td>32723</td>\n",
       "      <td>NaN</td>\n",
       "      <td>NaN</td>\n",
       "      <td>NaN</td>\n",
       "      <td>NaN</td>\n",
       "      <td>NaN</td>\n",
       "      <td>NaN</td>\n",
       "      <td>NaN</td>\n",
       "      <td>NaN</td>\n",
       "      <td>NaN</td>\n",
       "      <td>1068.0</td>\n",
       "      <td>883</td>\n",
       "      <td>2009-09-20</td>\n",
       "      <td>5000</td>\n",
       "      <td>NaN</td>\n",
       "      <td>PHY324689</td>\n",
       "      <td>PRV56046</td>\n",
       "      <td>1943-01-01</td>\n",
       "      <td>NaN</td>\n",
       "      <td>1</td>\n",
       "      <td>1</td>\n",
       "      <td>0</td>\n",
       "      <td>39</td>\n",
       "      <td>230</td>\n",
       "      <td>12</td>\n",
       "      <td>12</td>\n",
       "      <td>1</td>\n",
       "      <td>2</td>\n",
       "      <td>1</td>\n",
       "      <td>2</td>\n",
       "      <td>2</td>\n",
       "      <td>1</td>\n",
       "      <td>1</td>\n",
       "      <td>1</td>\n",
       "      <td>2</td>\n",
       "      <td>1</td>\n",
       "      <td>1</td>\n",
       "      <td>36000</td>\n",
       "      <td>3204</td>\n",
       "      <td>60</td>\n",
       "      <td>70</td>\n",
       "    </tr>\n",
       "    <tr>\n",
       "      <th>3</th>\n",
       "      <td>2009-02-14</td>\n",
       "      <td>PHY369659</td>\n",
       "      <td>BENE11011</td>\n",
       "      <td>2009-02-22</td>\n",
       "      <td>CLM38412</td>\n",
       "      <td>2009-02-14</td>\n",
       "      <td>431</td>\n",
       "      <td>43491</td>\n",
       "      <td>NaN</td>\n",
       "      <td>2762</td>\n",
       "      <td>7843</td>\n",
       "      <td>32723</td>\n",
       "      <td>V1041</td>\n",
       "      <td>4254</td>\n",
       "      <td>25062</td>\n",
       "      <td>40390</td>\n",
       "      <td>4019</td>\n",
       "      <td>331.0</td>\n",
       "      <td>NaN</td>\n",
       "      <td>NaN</td>\n",
       "      <td>NaN</td>\n",
       "      <td>NaN</td>\n",
       "      <td>NaN</td>\n",
       "      <td>1068.0</td>\n",
       "      <td>067</td>\n",
       "      <td>2009-02-22</td>\n",
       "      <td>5000</td>\n",
       "      <td>PHY392961</td>\n",
       "      <td>PHY349768</td>\n",
       "      <td>PRV52405</td>\n",
       "      <td>1914-03-01</td>\n",
       "      <td>NaN</td>\n",
       "      <td>2</td>\n",
       "      <td>2</td>\n",
       "      <td>0</td>\n",
       "      <td>1</td>\n",
       "      <td>360</td>\n",
       "      <td>12</td>\n",
       "      <td>12</td>\n",
       "      <td>2</td>\n",
       "      <td>1</td>\n",
       "      <td>1</td>\n",
       "      <td>2</td>\n",
       "      <td>2</td>\n",
       "      <td>1</td>\n",
       "      <td>1</td>\n",
       "      <td>2</td>\n",
       "      <td>2</td>\n",
       "      <td>1</td>\n",
       "      <td>1</td>\n",
       "      <td>5000</td>\n",
       "      <td>1068</td>\n",
       "      <td>250</td>\n",
       "      <td>320</td>\n",
       "    </tr>\n",
       "    <tr>\n",
       "      <th>4</th>\n",
       "      <td>NaN</td>\n",
       "      <td>PHY379398</td>\n",
       "      <td>BENE11011</td>\n",
       "      <td>2009-01-18</td>\n",
       "      <td>CLM144521</td>\n",
       "      <td>2009-01-18</td>\n",
       "      <td>78900</td>\n",
       "      <td>78969</td>\n",
       "      <td>NaN</td>\n",
       "      <td>78701</td>\n",
       "      <td>V5866</td>\n",
       "      <td>59389</td>\n",
       "      <td>2449</td>\n",
       "      <td>NaN</td>\n",
       "      <td>NaN</td>\n",
       "      <td>NaN</td>\n",
       "      <td>NaN</td>\n",
       "      <td>NaN</td>\n",
       "      <td>NaN</td>\n",
       "      <td>NaN</td>\n",
       "      <td>NaN</td>\n",
       "      <td>NaN</td>\n",
       "      <td>NaN</td>\n",
       "      <td>0.0</td>\n",
       "      <td>NaN</td>\n",
       "      <td>NaN</td>\n",
       "      <td>50</td>\n",
       "      <td>NaN</td>\n",
       "      <td>NaN</td>\n",
       "      <td>PRV52314</td>\n",
       "      <td>1914-03-01</td>\n",
       "      <td>NaN</td>\n",
       "      <td>2</td>\n",
       "      <td>2</td>\n",
       "      <td>0</td>\n",
       "      <td>1</td>\n",
       "      <td>360</td>\n",
       "      <td>12</td>\n",
       "      <td>12</td>\n",
       "      <td>2</td>\n",
       "      <td>1</td>\n",
       "      <td>1</td>\n",
       "      <td>2</td>\n",
       "      <td>2</td>\n",
       "      <td>1</td>\n",
       "      <td>1</td>\n",
       "      <td>2</td>\n",
       "      <td>2</td>\n",
       "      <td>1</td>\n",
       "      <td>1</td>\n",
       "      <td>5000</td>\n",
       "      <td>1068</td>\n",
       "      <td>250</td>\n",
       "      <td>320</td>\n",
       "    </tr>\n",
       "  </tbody>\n",
       "</table>\n",
       "</div>"
      ],
      "text/plain": [
       "  AdmissionDt AttendingPhysician     BeneID  ClaimEndDt    ClaimID  \\\n",
       "0  2009-04-12          PHY390922  BENE11001  2009-04-18   CLM46614   \n",
       "1  2009-08-31          PHY318495  BENE11001  2009-09-02   CLM66048   \n",
       "2  2009-09-17          PHY372395  BENE11001  2009-09-20   CLM68358   \n",
       "3  2009-02-14          PHY369659  BENE11011  2009-02-22   CLM38412   \n",
       "4         NaN          PHY379398  BENE11011  2009-01-18  CLM144521   \n",
       "\n",
       "  ClaimStartDt ClmAdmitDiagnosisCode ClmDiagnosisCode_1 ClmDiagnosisCode_10  \\\n",
       "0   2009-04-12                  7866               1970                 NaN   \n",
       "1   2009-08-31                  6186               6186                 NaN   \n",
       "2   2009-09-17                 29590              29623                 NaN   \n",
       "3   2009-02-14                   431              43491                 NaN   \n",
       "4   2009-01-18                 78900              78969                 NaN   \n",
       "\n",
       "  ClmDiagnosisCode_2 ClmDiagnosisCode_3 ClmDiagnosisCode_4 ClmDiagnosisCode_5  \\\n",
       "0               4019               5853               7843               2768   \n",
       "1               2948              56400                NaN                NaN   \n",
       "2              30390              71690              34590              V1581   \n",
       "3               2762               7843              32723              V1041   \n",
       "4              78701              V5866              59389               2449   \n",
       "\n",
       "  ClmDiagnosisCode_6 ClmDiagnosisCode_7 ClmDiagnosisCode_8 ClmDiagnosisCode_9  \\\n",
       "0              71590               2724              19889               5849   \n",
       "1                NaN                NaN                NaN                NaN   \n",
       "2              32723                NaN                NaN                NaN   \n",
       "3               4254              25062              40390               4019   \n",
       "4                NaN                NaN                NaN                NaN   \n",
       "\n",
       "   ClmProcedureCode_1  ClmProcedureCode_2  ClmProcedureCode_3  \\\n",
       "0                 NaN                 NaN                 NaN   \n",
       "1              7092.0                 NaN                 NaN   \n",
       "2                 NaN                 NaN                 NaN   \n",
       "3               331.0                 NaN                 NaN   \n",
       "4                 NaN                 NaN                 NaN   \n",
       "\n",
       "   ClmProcedureCode_4  ClmProcedureCode_5  ClmProcedureCode_6  \\\n",
       "0                 NaN                 NaN                 NaN   \n",
       "1                 NaN                 NaN                 NaN   \n",
       "2                 NaN                 NaN                 NaN   \n",
       "3                 NaN                 NaN                 NaN   \n",
       "4                 NaN                 NaN                 NaN   \n",
       "\n",
       "   DeductibleAmtPaid DiagnosisGroupCode DischargeDt  InscClaimAmtReimbursed  \\\n",
       "0             1068.0                201  2009-04-18                   26000   \n",
       "1             1068.0                750  2009-09-02                    5000   \n",
       "2             1068.0                883  2009-09-20                    5000   \n",
       "3             1068.0                067  2009-02-22                    5000   \n",
       "4                0.0                NaN         NaN                      50   \n",
       "\n",
       "  OperatingPhysician OtherPhysician  Provider         DOB  DOD  Gender  Race  \\\n",
       "0                NaN            NaN  PRV55912  1943-01-01  NaN       1     1   \n",
       "1          PHY318495            NaN  PRV55907  1943-01-01  NaN       1     1   \n",
       "2                NaN      PHY324689  PRV56046  1943-01-01  NaN       1     1   \n",
       "3          PHY392961      PHY349768  PRV52405  1914-03-01  NaN       2     2   \n",
       "4                NaN            NaN  PRV52314  1914-03-01  NaN       2     2   \n",
       "\n",
       "  RenalDiseaseIndicator  State  County  NoOfMonths_PartACov  \\\n",
       "0                     0     39     230                   12   \n",
       "1                     0     39     230                   12   \n",
       "2                     0     39     230                   12   \n",
       "3                     0      1     360                   12   \n",
       "4                     0      1     360                   12   \n",
       "\n",
       "   NoOfMonths_PartBCov  ChronicCond_Alzheimer  ChronicCond_Heartfailure  \\\n",
       "0                   12                      1                         2   \n",
       "1                   12                      1                         2   \n",
       "2                   12                      1                         2   \n",
       "3                   12                      2                         1   \n",
       "4                   12                      2                         1   \n",
       "\n",
       "   ChronicCond_KidneyDisease  ChronicCond_Cancer  ChronicCond_ObstrPulmonary  \\\n",
       "0                          1                   2                           2   \n",
       "1                          1                   2                           2   \n",
       "2                          1                   2                           2   \n",
       "3                          1                   2                           2   \n",
       "4                          1                   2                           2   \n",
       "\n",
       "   ChronicCond_Depression  ChronicCond_Diabetes  ChronicCond_IschemicHeart  \\\n",
       "0                       1                     1                          1   \n",
       "1                       1                     1                          1   \n",
       "2                       1                     1                          1   \n",
       "3                       1                     1                          2   \n",
       "4                       1                     1                          2   \n",
       "\n",
       "   ChronicCond_Osteoporasis  ChronicCond_rheumatoidarthritis  \\\n",
       "0                         2                                1   \n",
       "1                         2                                1   \n",
       "2                         2                                1   \n",
       "3                         2                                1   \n",
       "4                         2                                1   \n",
       "\n",
       "   ChronicCond_stroke  IPAnnualReimbursementAmt  IPAnnualDeductibleAmt  \\\n",
       "0                   1                     36000                   3204   \n",
       "1                   1                     36000                   3204   \n",
       "2                   1                     36000                   3204   \n",
       "3                   1                      5000                   1068   \n",
       "4                   1                      5000                   1068   \n",
       "\n",
       "   OPAnnualReimbursementAmt  OPAnnualDeductibleAmt  \n",
       "0                        60                     70  \n",
       "1                        60                     70  \n",
       "2                        60                     70  \n",
       "3                       250                    320  \n",
       "4                       250                    320  "
      ]
     },
     "execution_count": 22,
     "metadata": {},
     "output_type": "execute_result"
    }
   ],
   "source": [
    "train.head()"
   ]
  },
  {
   "cell_type": "code",
   "execution_count": 23,
   "metadata": {},
   "outputs": [
    {
     "data": {
      "text/plain": [
       "(5410, 5410)"
      ]
     },
     "execution_count": 23,
     "metadata": {},
     "output_type": "execute_result"
    }
   ],
   "source": [
    "# check for the providers , if they there are matching labels or not ?\n",
    "len(train['Provider'].unique()) , len(df_train_label['Provider'].unique())"
   ]
  },
  {
   "cell_type": "code",
   "execution_count": 24,
   "metadata": {},
   "outputs": [
    {
     "data": {
      "text/html": [
       "<div>\n",
       "<style scoped>\n",
       "    .dataframe tbody tr th:only-of-type {\n",
       "        vertical-align: middle;\n",
       "    }\n",
       "\n",
       "    .dataframe tbody tr th {\n",
       "        vertical-align: top;\n",
       "    }\n",
       "\n",
       "    .dataframe thead th {\n",
       "        text-align: right;\n",
       "    }\n",
       "</style>\n",
       "<table border=\"1\" class=\"dataframe\">\n",
       "  <thead>\n",
       "    <tr style=\"text-align: right;\">\n",
       "      <th></th>\n",
       "      <th>Provider</th>\n",
       "      <th>PotentialFraud</th>\n",
       "    </tr>\n",
       "  </thead>\n",
       "  <tbody>\n",
       "    <tr>\n",
       "      <th>0</th>\n",
       "      <td>PRV51001</td>\n",
       "      <td>No</td>\n",
       "    </tr>\n",
       "    <tr>\n",
       "      <th>1</th>\n",
       "      <td>PRV51003</td>\n",
       "      <td>Yes</td>\n",
       "    </tr>\n",
       "    <tr>\n",
       "      <th>2</th>\n",
       "      <td>PRV51004</td>\n",
       "      <td>No</td>\n",
       "    </tr>\n",
       "    <tr>\n",
       "      <th>3</th>\n",
       "      <td>PRV51005</td>\n",
       "      <td>Yes</td>\n",
       "    </tr>\n",
       "    <tr>\n",
       "      <th>4</th>\n",
       "      <td>PRV51007</td>\n",
       "      <td>No</td>\n",
       "    </tr>\n",
       "  </tbody>\n",
       "</table>\n",
       "</div>"
      ],
      "text/plain": [
       "   Provider PotentialFraud\n",
       "0  PRV51001             No\n",
       "1  PRV51003            Yes\n",
       "2  PRV51004             No\n",
       "3  PRV51005            Yes\n",
       "4  PRV51007             No"
      ]
     },
     "execution_count": 24,
     "metadata": {},
     "output_type": "execute_result"
    }
   ],
   "source": [
    "df_train_label.head()"
   ]
  },
  {
   "cell_type": "markdown",
   "metadata": {},
   "source": [
    "###### So we have as many labels as providers."
   ]
  },
  {
   "cell_type": "code",
   "execution_count": 60,
   "metadata": {},
   "outputs": [
    {
     "data": {
      "image/png": "[encoded data removed]",
      "text/plain": [
       "<Figure size 432x288 with 1 Axes>"
      ]
     },
     "metadata": {
      "needs_background": "light"
     },
     "output_type": "display_data"
    }
   ],
   "source": [
    "plt.title(' Comprison of Fraud v/s Genuine')\n",
    "ax = sns.countplot(x = 'PotentialFraud', data=df_train_label)\n",
    "for p in ax.patches:\n",
    "    ax.annotate(str(p.get_height()), (p.get_x() * 1.005, p.get_height() * 1.005))"
   ]
  },
  {
   "cell_type": "markdown",
   "metadata": {},
   "source": [
    "##### So this is an imbalanced dataset , where we see the prevalance of one class over the other. Hence to make a more robust model , one has to augment the marginal class , which we will do at the time of preprocessing."
   ]
  },
  {
   "cell_type": "code",
   "execution_count": null,
   "metadata": {},
   "outputs": [],
   "source": []
  }
 ],
 "metadata": {
  "kernelspec": {
   "display_name": "Python 3",
   "language": "python",
   "name": "python3"
  },
  "language_info": {
   "codemirror_mode": {
    "name": "ipython",
    "version": 3
   },
   "file_extension": ".py",
   "mimetype": "text/x-python",
   "name": "python",
   "nbconvert_exporter": "python",
   "pygments_lexer": "ipython3",
   "version": "3.6.8"
  }
 },
 "nbformat": 4,
 "nbformat_minor": 2
}
